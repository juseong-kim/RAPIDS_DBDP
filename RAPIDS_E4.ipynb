{
 "cells": [
  {
   "cell_type": "markdown",
   "metadata": {},
   "source": [
    "# RapidsE4Formatter\n",
    "This function formats raw .csv data from the Empatica E4 wearable sensor into a format compatible with the RAPIDS framework.\n",
    "\n",
    "## Overview\n",
    "------\n",
    "#### Input\n",
    "Raw .csv files downloaded from Empatica   \n",
    "#### Output\n",
    "Properly formatted dataframes compiled from all recordings with correct timestamps  \n",
    "\n",
    "#### Folder configuration\n",
    "Folders and files should be organized as shown below.\n",
    "```bash\n",
    "├── participant_1\n",
    "│   └── EmpaticaE4\n",
    "│       ├── ACC.csv\n",
    "│       ├── BVP.csv\n",
    "│       ├── EDA.csv\n",
    "│       ├── HR.csv\n",
    "│       ├── IBI.csv\n",
    "│       └── TEMP.csv\n",
    "├── participant_2\n",
    "...\n",
    "```\n",
    "#### Write to .csv functionality\n",
    "Data frames can be written to .csv files by setting parameter csvRW to 'w'.  \n",
    "CSV files will be stored in a new folder named *'formatted'* within *'EmpaticaE4'* for each participant.\n",
    "```bash\n",
    "├── participant_1\n",
    "│   └── EmpaticaE4\n",
    "│       ├── *.csv\n",
    "│       └── Formatted\n",
    "│           └── *_fmtd.csv\n",
    "├── participant_2\n",
    "...\n",
    "```\n"
   ]
  },
  {
   "cell_type": "markdown",
   "metadata": {},
   "source": [
    "## User Inputs\n",
    "------\n",
    "#### Overview of parameters\n",
    "```python\n",
    "participant = 'unique participant/subject identifier number' # 1, 2, 3, ..., n\n",
    "wearable = 'identifies type of wearable device' # \"EmpaticaE4\", \"AppleWatch\", etc.\n",
    "label = 'user-defined label'\n",
    "startDate, endDate = 'yyyy-mm-dd hh:mm:ss', 'yyyy-mm-dd hh:mm:ss' # filters data between these dates\n",
    "filesource = 'folder containing csv files' # e.g. /participant_1/Empatica\n",
    "csvRW = 'read/write permission' # set to 'w' to write dataframes to csv files in separate folder\n",
    "```"
   ]
  },
  {
   "cell_type": "code",
   "execution_count": 1,
   "metadata": {
    "pycharm": {
     "name": "#%%\n"
    }
   },
   "outputs": [],
   "source": [
    "participant = 'n'\n",
    "wearable = 'EmpaticaE4'\n",
    "label = 'trial_1'\n",
    "startDate, endDate = '2019-07-23 16:19:45', '2019-07-23 16:19:49'\n",
    "filesource = ''\n",
    "csvRW = 'w'"
   ]
  },
  {
   "cell_type": "markdown",
   "metadata": {
    "pycharm": {
     "name": "#%% md\n"
    }
   },
   "source": [
    "## Required libraries\n",
    "------"
   ]
  },
  {
   "cell_type": "code",
   "execution_count": 2,
   "metadata": {
    "pycharm": {
     "name": "#%%\n"
    }
   },
   "outputs": [],
   "source": [
    "import csv\n",
    "import datetime\n",
    "from collections import OrderedDict\n",
    "import pandas as pd\n",
    "import glob\n",
    "import os"
   ]
  },
  {
   "cell_type": "markdown",
   "metadata": {},
   "source": [
    "## Optional Write to CSV Function\n",
    "------\n",
    "writetoscv() - writes dataframe to .csv file"
   ]
  },
  {
   "cell_type": "code",
   "execution_count": 3,
   "metadata": {},
   "outputs": [],
   "source": [
    "def writetocsv(dframe, idd, wearable, dtype):\n",
    "    outfolder = filesource + 'participant_' + idd + '/' + wearable +'/' + 'Formatted/'\n",
    "    if not os.path.exists(outfolder):\n",
    "        os.mkdir(outfolder)\n",
    "        \n",
    "    out_filename = (outfolder + dtype + '_fmtd.csv')\n",
    "    dframe.to_csv(out_filename, mode='w', header=True)"
   ]
  },
  {
   "cell_type": "markdown",
   "metadata": {
    "pycharm": {
     "name": "#%% md\n"
    }
   },
   "source": [
    "## Import and Format\n",
    "------\n",
    "#### Functions \n",
    "* readFile() - reads file into dictionary (and corrects for time zone)\n",
    "* formatFile() - formats into dataframe with time as timestamp using datetime (ISO8601), formats sensor values to float \n",
    "* importandexport() - finds all files of sensor type in participant folder and runs formatfile for each input file\n",
    "* processAcceleration() - converts 3 axes to float values"
   ]
  },
  {
   "cell_type": "code",
   "execution_count": 4,
   "metadata": {
    "pycharm": {
     "name": "#%%\n"
    }
   },
   "outputs": [],
   "source": [
    "def processAcceleration(x,y,z):\n",
    "    x = float(x)\n",
    "    y = float(y)\n",
    "    z = float(z) \n",
    "    return {'x':x,'y':y,'z':z}"
   ]
  },
  {
   "cell_type": "code",
   "execution_count": 5,
   "metadata": {
    "pycharm": {
     "name": "#%%\n"
    }
   },
   "outputs": [],
   "source": [
    "def readFile(file, dtype, utc):\n",
    "    dict = OrderedDict()\n",
    "\n",
    "    with open(file, 'rt') as csvfile:\n",
    "        if dtype in ('EDA','TEMP','HR','BVP'):\n",
    "            reader = csv.reader(csvfile, delimiter='\\n')\n",
    "        elif dtype == 'ACC':\n",
    "            reader = csv.reader(csvfile, delimiter=',') \n",
    "        # add IBI\n",
    "        \n",
    "        i=0\n",
    "        for row in reader:\n",
    "            if i==0:\n",
    "                timestamp=float(row[0])+3600*utc # TODO: time zone correction (plusminus utc*3600)\n",
    "            elif i==1:\n",
    "                hertz = float(row[0])\n",
    "            else:\n",
    "                #if i!=2:\n",
    "                timestamp = timestamp + 1.0/hertz\n",
    "                if dtype in ('EDA','TEMP','HR','BVP'):\n",
    "                    dict[timestamp]=row[0]\n",
    "                elif dtype=='ACC':\n",
    "                    dict[timestamp]= processAcceleration(row[0],row[1],row[2])\n",
    "            i += 1\n",
    "    return dict"
   ]
  },
  {
   "cell_type": "code",
   "execution_count": 7,
   "metadata": {},
   "outputs": [],
   "source": [
    "def formatfile(file, idd, wearable, dtype, startDate, endDate, csvRW, utc):\n",
    "    dfile = readFile(file=file, dtype=dtype, utc=utc)\n",
    "    dfile =  {datetime.datetime.utcfromtimestamp(k).strftime('%Y-%m-%d %H:%M:%S.%f'): v for k, v in dfile.items()}\n",
    "    if dtype in ('EDA','TEMP','HR','BVP'):\n",
    "        dframe = pd.DataFrame.from_dict(dfile, orient='index', columns=[dtype])\n",
    "        dframe[dtype] = dframe[dtype].astype(float)\n",
    "    elif dtype=='ACC':\n",
    "        dframe = pd.DataFrame.from_dict(dfile, orient='index', columns=['x','y','z'])\n",
    "        dframe['x'] = dframe['x'].astype(float)\n",
    "        dframe['y'] = dframe['y'].astype(float)\n",
    "        dframe['z'] = dframe['z'].astype(float)\n",
    "    \n",
    "    dframe['Datetime'] =dframe.index\n",
    "    dframe['Datetime'] = pd.to_datetime(dframe['Datetime'], format='%Y-%m-%dT%H:%M:%S.%f')\n",
    "    dframe  = dframe.set_index('Datetime')\n",
    "    \n",
    "    if startDate:\n",
    "        dframe = dframe.loc[startDate:] \n",
    "    if endDate:\n",
    "        dframe = dframe.loc[:endDate]\n",
    "                \n",
    "    if csvRW=='w':\n",
    "        writetocsv(dframe, idd, wearable, dtype)\n",
    "        \n",
    "    return dframe"
   ]
  },
  {
   "cell_type": "code",
   "execution_count": 8,
   "metadata": {},
   "outputs": [],
   "source": [
    "def importandexport(filesource, idd, wearable, dtype, startDate, endDate, csvRW, utc):\n",
    "    configfiles = glob.glob(filesource + 'participant_' + participant +'/' + wearable +'/' + dtype + '.csv')\n",
    "    print(configfiles)\n",
    "    \n",
    "    [formatfile(file, idd, wearable, dtype, startDate, endDate, csvRW, utc) for file in configfiles]\n",
    "    print(('Completed Import and Export of: ' + dtype))"
   ]
  },
  {
   "cell_type": "code",
   "execution_count": 10,
   "metadata": {},
   "outputs": [
    {
     "name": "stdout",
     "output_type": "stream",
     "text": [
      "['participant_n/EmpaticaE4/EDA.csv']\n",
      "Completed Import and Export of: EDA\n",
      "['participant_n/EmpaticaE4/TEMP.csv']\n",
      "Completed Import and Export of: TEMP\n",
      "['participant_n/EmpaticaE4/HR.csv']\n",
      "Completed Import and Export of: HR\n",
      "['participant_n/EmpaticaE4/BVP.csv']\n",
      "Completed Import and Export of: BVP\n",
      "['participant_n/EmpaticaE4/ACC.csv']\n",
      "Completed Import and Export of: ACC\n"
     ]
    }
   ],
   "source": [
    "listdtype = ['EDA','TEMP','HR','BVP']\n",
    "utc=0\n",
    "[importandexport(filesource, participant, wearable, dtype, startDate, endDate, csvRW, utc) for dtype in listdtype]\n",
    "\n",
    "utc=-4\n",
    "startDate, endDate = '2019-07-23 12:31:31', '2019-07-23 12:31:35'\n",
    "importandexport(filesource, participant, wearable, 'ACC', startDate, endDate, csvRW, utc)"
   ]
  },
  {
   "cell_type": "markdown",
   "metadata": {
    "pycharm": {
     "name": "#%% md\n"
    }
   },
   "source": [
    "## Import and Format ACC\n",
    "------\n",
    "#### Functions\n",
    "* processAcceleration() - converts 3 axis to float values\n",
    "* readAccFile() - reads file into dictionary and corrects for time zone\n",
    "* formatAccFile() - formats into dataframe with time as timestamp using datetime (ISO8601), formats sensor values to float, writes to .csv\n",
    "* importandexport() - finds all files of sensor type 'ACC' in participant folder and runs formatfile for each input file"
   ]
  },
  {
   "cell_type": "code",
   "execution_count": 14,
   "metadata": {},
   "outputs": [],
   "source": [
    "def readAccFile(file):\n",
    "    dict = OrderedDict()\n",
    "    \n",
    "    with open(file, 'rt') as csvfile:\n",
    "        reader = csv.reader(csvfile, delimiter=',')\n",
    "        i=0\n",
    "        for row in reader:\n",
    "            if i == 0:\n",
    "                timestamp = float(row[0])-3600*4 # TODO: time zone correction\n",
    "            elif i == 1:\n",
    "                hertz=float(row[0])\n",
    "            elif i == 2:\n",
    "                dict[timestamp]= processAcceleration(row[0],row[1],row[2])\n",
    "            else:\n",
    "                timestamp = timestamp + 1.0/hertz \n",
    "                dict[timestamp] = processAcceleration(row[0],row[1],row[2])\n",
    "            i += 1\n",
    "        return dict"
   ]
  },
  {
   "cell_type": "code",
   "execution_count": 15,
   "metadata": {},
   "outputs": [],
   "source": [
    "def formatAccfile(file, idd, wearable, dtype, startDate, endDate, csvRW):\n",
    "    dfile = readAccFile(file = file)\n",
    "    dfile =  {datetime.datetime.utcfromtimestamp(k).strftime('%Y-%m-%d %H:%M:%S.%f'): v for k, v in dfile.items()}\n",
    "    dframe = pd.DataFrame.from_dict(dfile, orient='index', columns=['x', 'y', 'z'])\n",
    "    \n",
    "    dframe['x'] = dframe['x'].astype(float)\n",
    "    dframe['y'] = dframe['y'].astype(float)\n",
    "    dframe['z'] = dframe['z'].astype(float)\n",
    "    \n",
    "    dframe['Datetime'] =dframe.index\n",
    "    dframe['Datetime'] = pd.to_datetime(dframe['Datetime'], format='%Y-%m-%dT%H:%M:%S.%f')\n",
    "    dframe  = dframe.set_index('Datetime')\n",
    "    if startDate:\n",
    "        dframe=dframe.loc[startDate:]\n",
    "    if endDate:\n",
    "        dframe=dframe.loc[:endDate]\n",
    "\n",
    "    if csvRW=='w':\n",
    "        writetocsv(dframe, idd, wearable, dtype)\n",
    "        \n",
    "    return dframe"
   ]
  },
  {
   "cell_type": "code",
   "execution_count": 16,
   "metadata": {},
   "outputs": [],
   "source": [
    "def importandexportAcc(filesource, idd, wearable, dtype, startDate, endDate, csvRW):\n",
    "    configfiles = glob.glob(filesource + 'participant_' + idd +'/' + wearable +'/' + dtype + '.csv')\n",
    "    print(configfiles)\n",
    "    \n",
    "    [formatAccfile(file, idd, wearable, dtype, startDate, endDate, csvRW) for file in configfiles]\n",
    "    print(('Completed Import and Export of: ' + dtype))"
   ]
  },
  {
   "cell_type": "code",
   "execution_count": 17,
   "metadata": {},
   "outputs": [
    {
     "name": "stdout",
     "output_type": "stream",
     "text": [
      "['participant_n/EmpaticaE4/ACC.csv']\n",
      "Completed Import and Export of: ACC\n"
     ]
    }
   ],
   "source": [
    "startDate, endDate = '2019-07-23 12:31:31', '2019-07-23 12:35:35'\n",
    "importandexportAcc(filesource, participant, wearable, 'ACC', startDate=False, endDate=False, csvRW=csvRW)"
   ]
  },
  {
   "cell_type": "markdown",
   "metadata": {
    "pycharm": {
     "name": "#%% md\n"
    }
   },
   "source": [
    "## Import and Format IBI\n",
    "------\n",
    "#### Functions\n",
    "* importIBI() - reads file into dataframe and corrects for time zone, formats time as timestamp using datetime (ISO8601), formats sensor values to float, writes to .csv\n",
    "* importandexportIBI() - finds all files of sensor type 'IBI' in participant folder and runs importIBI() for each input file"
   ]
  },
  {
   "cell_type": "code",
   "execution_count": null,
   "metadata": {
    "pycharm": {
     "name": "#%%\n"
    }
   },
   "outputs": [],
   "source": [
    "def importIBI(file, idd, wearable, dtype, startDate, endDate, csvRW):\n",
    "    IBI = pd.read_csv(file, header=None)\n",
    "    timestampstart = float(IBI[0][0])-3600*4\n",
    "    IBI[0] = (IBI[0][1:len(IBI)]).astype(float)+timestampstart\n",
    "    IBI = IBI.drop([0])\n",
    "    IBI[0] = IBI[0].apply(lambda x: datetime.datetime.utcfromtimestamp(x).strftime('%Y-%m-%d %H:%M:%S.%f'))\n",
    "    IBI  = IBI.set_index(0)\n",
    "    \n",
    "    if csvRW=='w':\n",
    "        writetocsv(IBI, idd, wearable, dtype, startDate, endDate)\n",
    "    \n",
    "    return IBI"
   ]
  },
  {
   "cell_type": "code",
   "execution_count": null,
   "metadata": {},
   "outputs": [],
   "source": [
    "def importandexportIBI(filesource, idd, wearable, dtype, startDate, endDate, csvRW):\n",
    "    configfiles = glob.glob(filesource + 'participant_' + idd +'/' + wearable +'/' + dtype + '.csv')\n",
    "    print(configfiles)\n",
    "    \n",
    "    [importIBI(file, idd, wearable, dtype, startDate, endDate, csvRW) for file in configfiles]\n",
    "    print(('Completed Import and Export of: ' + dtype))"
   ]
  },
  {
   "cell_type": "code",
   "execution_count": null,
   "metadata": {},
   "outputs": [],
   "source": [
    "startDate, endDate = '2019-07-23 12:20:42', '2019-07-23 12:22:15' # TODO select with times not by the second\n",
    "importandexportIBI(filesource, participant, wearable, 'IBI', startDate, endDate, csvRW) "
   ]
  },
  {
   "cell_type": "markdown",
   "metadata": {
    "pycharm": {
     "name": "#%% md\n"
    }
   },
   "source": [
    "***\n",
    "#### Sources\n",
    "- [DBDP - Preprocessing - E4 File Formatter](https://github.com/DigitalBiomarkerDiscoveryPipeline/Pre-process)\n",
    "- [Empatica Timestamp Explanation](https://support.empatica.com/hc/en-us/articles/202800715-Session-start-time-format-and-synchronization-)\n",
    "- [E4 File Sync Python Script on GitHub](https://github.com/Ev4ngelos/EmpaticaBiophysicalSync/blob/master/E4BioSync.py)"
   ]
  }
 ],
 "metadata": {
  "kernelspec": {
   "display_name": "Python 3",
   "language": "python",
   "name": "python3"
  },
  "language_info": {
   "codemirror_mode": {
    "name": "ipython",
    "version": 3
   },
   "file_extension": ".py",
   "mimetype": "text/x-python",
   "name": "python",
   "nbconvert_exporter": "python",
   "pygments_lexer": "ipython3",
   "version": "3.8.5"
  }
 },
 "nbformat": 4,
 "nbformat_minor": 4
}
